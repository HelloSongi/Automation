{
 "cells": [
  {
   "cell_type": "code",
   "execution_count": 3,
   "id": "d92988c5",
   "metadata": {},
   "outputs": [],
   "source": [
    "#install tk \n",
    "#install ghostscript\n",
    "#pip install camelot-py"
   ]
  },
  {
   "cell_type": "code",
   "execution_count": 4,
   "id": "91a44fd4",
   "metadata": {},
   "outputs": [
    {
     "name": "stdout",
     "output_type": "stream",
     "text": [
      "Defaulting to user installation because normal site-packages is not writeable\n",
      "Requirement already satisfied: camelot-py in /home/hellosongi/.local/lib/python3.10/site-packages (0.10.1)\n",
      "Requirement already satisfied: PyPDF2>=1.26.0 in /home/hellosongi/.local/lib/python3.10/site-packages (from camelot-py) (2.11.2)\n",
      "Requirement already satisfied: pandas>=0.23.4 in /home/hellosongi/.local/lib/python3.10/site-packages (from camelot-py) (1.5.2)\n",
      "Requirement already satisfied: chardet>=3.0.4 in /usr/lib/python3/dist-packages (from camelot-py) (4.0.0)\n",
      "Requirement already satisfied: pdfminer.six>=20200726 in /home/hellosongi/.local/lib/python3.10/site-packages (from camelot-py) (20221105)\n",
      "Requirement already satisfied: click>=6.7 in /home/hellosongi/.local/lib/python3.10/site-packages (from camelot-py) (8.1.3)\n",
      "Requirement already satisfied: tabulate>=0.8.9 in /home/hellosongi/.local/lib/python3.10/site-packages (from camelot-py) (0.9.0)\n",
      "Requirement already satisfied: openpyxl>=2.5.8 in /home/hellosongi/.local/lib/python3.10/site-packages (from camelot-py) (3.0.10)\n",
      "Requirement already satisfied: numpy>=1.13.3 in /usr/lib/python3/dist-packages (from camelot-py) (1.21.5)\n",
      "Requirement already satisfied: et-xmlfile in /home/hellosongi/.local/lib/python3.10/site-packages (from openpyxl>=2.5.8->camelot-py) (1.1.0)\n",
      "Requirement already satisfied: pytz>=2020.1 in /home/hellosongi/.local/lib/python3.10/site-packages (from pandas>=0.23.4->camelot-py) (2022.5)\n",
      "Requirement already satisfied: python-dateutil>=2.8.1 in /home/hellosongi/.local/lib/python3.10/site-packages (from pandas>=0.23.4->camelot-py) (2.8.2)\n",
      "Requirement already satisfied: charset-normalizer>=2.0.0 in /home/hellosongi/.local/lib/python3.10/site-packages (from pdfminer.six>=20200726->camelot-py) (2.1.1)\n",
      "Requirement already satisfied: cryptography>=36.0.0 in /home/hellosongi/.local/lib/python3.10/site-packages (from pdfminer.six>=20200726->camelot-py) (36.0.2)\n",
      "Requirement already satisfied: cffi>=1.12 in /home/hellosongi/.local/lib/python3.10/site-packages (from cryptography>=36.0.0->pdfminer.six>=20200726->camelot-py) (1.15.1)\n",
      "Requirement already satisfied: six>=1.5 in /usr/lib/python3/dist-packages (from python-dateutil>=2.8.1->pandas>=0.23.4->camelot-py) (1.16.0)\n",
      "Requirement already satisfied: pycparser in /home/hellosongi/.local/lib/python3.10/site-packages (from cffi>=1.12->cryptography>=36.0.0->pdfminer.six>=20200726->camelot-py) (2.21)\n"
     ]
    }
   ],
   "source": [
    "pip install camelot-py"
   ]
  },
  {
   "cell_type": "code",
   "execution_count": 1,
   "id": "9e8689d2",
   "metadata": {},
   "outputs": [
    {
     "name": "stdout",
     "output_type": "stream",
     "text": [
      "Defaulting to user installation because normal site-packages is not writeable\n",
      "Requirement already satisfied: ghostscript in /home/hellosongi/.local/lib/python3.10/site-packages (0.7)\n",
      "Requirement already satisfied: setuptools>=38.6.0 in /usr/lib/python3/dist-packages (from ghostscript) (59.6.0)\n",
      "Note: you may need to restart the kernel to use updated packages.\n"
     ]
    }
   ],
   "source": [
    "pip install ghostscript"
   ]
  },
  {
   "cell_type": "code",
   "execution_count": 2,
   "id": "c097fa83",
   "metadata": {},
   "outputs": [
    {
     "ename": "NameError",
     "evalue": "name 'camelot' is not defined",
     "output_type": "error",
     "traceback": [
      "\u001b[0;31m---------------------------------------------------------------------------\u001b[0m",
      "\u001b[0;31mNameError\u001b[0m                                 Traceback (most recent call last)",
      "Cell \u001b[0;32mIn [2], line 1\u001b[0m\n\u001b[0;32m----> 1\u001b[0m tables \u001b[38;5;241m=\u001b[39m \u001b[43mcamelot\u001b[49m\u001b[38;5;241m.\u001b[39mread_pdf(\u001b[38;5;124m'\u001b[39m\u001b[38;5;124mfoo.pdf\u001b[39m\u001b[38;5;124m'\u001b[39m, pages\u001b[38;5;241m=\u001b[39m\u001b[38;5;124m'\u001b[39m\u001b[38;5;124m1\u001b[39m\u001b[38;5;124m'\u001b[39m)\n",
      "\u001b[0;31mNameError\u001b[0m: name 'camelot' is not defined"
     ]
    }
   ],
   "source": [
    "tables = camelot.read_pdf('foo.pdf', pages='1')"
   ]
  },
  {
   "cell_type": "code",
   "execution_count": 3,
   "id": "5c2682b7",
   "metadata": {},
   "outputs": [
    {
     "ename": "NameError",
     "evalue": "name 'tables' is not defined",
     "output_type": "error",
     "traceback": [
      "\u001b[0;31m---------------------------------------------------------------------------\u001b[0m",
      "\u001b[0;31mNameError\u001b[0m                                 Traceback (most recent call last)",
      "Cell \u001b[0;32mIn [3], line 2\u001b[0m\n\u001b[1;32m      1\u001b[0m \u001b[38;5;66;03m#prints number of tables found in the pdf file\u001b[39;00m\n\u001b[0;32m----> 2\u001b[0m \u001b[38;5;28mprint\u001b[39m(\u001b[43mtables\u001b[49m)\n",
      "\u001b[0;31mNameError\u001b[0m: name 'tables' is not defined"
     ]
    }
   ],
   "source": [
    "#prints number of tables found in the pdf file\n",
    "print(tables)"
   ]
  },
  {
   "cell_type": "code",
   "execution_count": null,
   "id": "b9988fed",
   "metadata": {},
   "outputs": [],
   "source": [
    "#exports tables as csv file\n",
    "tables.export('foo.csv', f='csv', compress=True)"
   ]
  }
 ],
 "metadata": {
  "kernelspec": {
   "display_name": "Python 3 (ipykernel)",
   "language": "python",
   "name": "python3"
  },
  "language_info": {
   "codemirror_mode": {
    "name": "ipython",
    "version": 3
   },
   "file_extension": ".py",
   "mimetype": "text/x-python",
   "name": "python",
   "nbconvert_exporter": "python",
   "pygments_lexer": "ipython3",
   "version": "3.10.6"
  },
  "vscode": {
   "interpreter": {
    "hash": "e7370f93d1d0cde622a1f8e1c04877d8463912d04d973331ad4851f04de6915a"
   }
  }
 },
 "nbformat": 4,
 "nbformat_minor": 5
}
